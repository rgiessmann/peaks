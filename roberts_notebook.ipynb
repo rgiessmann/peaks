{
 "cells": [
  {
   "cell_type": "markdown",
   "metadata": {},
   "source": [
    "# Robert's Notebook\n",
    "Hei, welcome to my notebook! Here we will try to work out a footprinting data manipulation pipeline!\n",
    "\n",
    "Let's start with importing the module for this:"
   ]
  },
  {
   "cell_type": "code",
   "execution_count": 1,
   "metadata": {
    "collapsed": false
   },
   "outputs": [],
   "source": [
    "import footprint"
   ]
  },
  {
   "cell_type": "markdown",
   "metadata": {
    "collapsed": true
   },
   "source": [
    "Nice!\n",
    "\n",
    "Let's continue with initializing the data, and make a whole run of data manipulation:"
   ]
  },
  {
   "cell_type": "code",
   "execution_count": 2,
   "metadata": {
    "collapsed": false
   },
   "outputs": [
    {
     "data": {
      "text/plain": [
       "[<footprint.Trace at 0x10525d0f0>, <footprint.Trace at 0x10525d7b8>]"
      ]
     },
     "execution_count": 2,
     "metadata": {},
     "output_type": "execute_result"
    }
   ],
   "source": [
    "footprint.get_data()"
   ]
  },
  {
   "cell_type": "markdown",
   "metadata": {},
   "source": [
    "As you can see, the data is returned in a kind of \"unreadable\" format, with Class objects (cf. Python manuals for what a class is). It is further returned as a list which you can access with square brackets (this is \"[\" and \"]\"). You can view all the class's attribute with vars() and access all the class's attributes with object-oriented principles, e.g. like this:"
   ]
  },
  {
   "cell_type": "code",
   "execution_count": 5,
   "metadata": {
    "collapsed": false
   },
   "outputs": [
    {
     "data": {
      "text/plain": [
       "{'Ltot_conc': 0,\n",
       " 'Rtot_conc': 0.1,\n",
       " 'dye_color': 'B',\n",
       " 'file_name': '01-18-16-35-11 AM.fsa',\n",
       " 'peaks': [<footprint.Peak at 0x10a4ffc88>,\n",
       "  <footprint.Peak at 0x10a4ffcf8>,\n",
       "  <footprint.Peak at 0x10a4ffd30>]}"
      ]
     },
     "execution_count": 5,
     "metadata": {},
     "output_type": "execute_result"
    }
   ],
   "source": [
    "trace_list = footprint.get_data()\n",
    "trace,ref=trace_list[0], trace_list[1]\n",
    "\n",
    "vars(ref)"
   ]
  },
  {
   "cell_type": "code",
   "execution_count": 7,
   "metadata": {
    "collapsed": false
   },
   "outputs": [
    {
     "name": "stdout",
     "output_type": "stream",
     "text": [
      "0.1\n"
     ]
    }
   ],
   "source": [
    "print(ref.Rtot_conc)"
   ]
  },
  {
   "cell_type": "markdown",
   "metadata": {},
   "source": [
    "As you can see, the attribute \"peaks\" contains further data. Let's check it out!"
   ]
  },
  {
   "cell_type": "code",
   "execution_count": 8,
   "metadata": {
    "collapsed": false
   },
   "outputs": [
    {
     "data": {
      "text/plain": [
       "{'peak_height': 20, 'size_bp': 1}"
      ]
     },
     "execution_count": 8,
     "metadata": {},
     "output_type": "execute_result"
    }
   ],
   "source": [
    "vars(ref.peaks[0])"
   ]
  },
  {
   "cell_type": "markdown",
   "metadata": {},
   "source": [
    "Again, we can access the data:"
   ]
  },
  {
   "cell_type": "code",
   "execution_count": 10,
   "metadata": {
    "collapsed": false
   },
   "outputs": [
    {
     "name": "stdout",
     "output_type": "stream",
     "text": [
      "20\n"
     ]
    }
   ],
   "source": [
    "print(ref.peaks[0].peak_height)"
   ]
  },
  {
   "cell_type": "markdown",
   "metadata": {},
   "source": [
    "Let's go into further functions of the script!"
   ]
  },
  {
   "cell_type": "code",
   "execution_count": 12,
   "metadata": {
    "collapsed": false,
    "scrolled": true
   },
   "outputs": [
    {
     "name": "stdout",
     "output_type": "stream",
     "text": [
      "uncorrected RMSD of peaks: 12.9099444874\n",
      "optimal factor : 1\n",
      "\n",
      "\n",
      "Lfree : 4.9\n"
     ]
    }
   ],
   "source": [
    "footprint.cluster_peaks(ref,[trace])\n",
    "\n",
    "print(\"uncorrected RMSD of peaks: \"+str(footprint.calculate_deviance_for_all_peaks(ref,trace)))\n",
    "\n",
    "print(\"optimal factor : \"+str(footprint.determine_factor_numerically(trace_list[0], trace_list[1])))\n",
    "\n",
    "footprint.add_fractional_occupancies(ref,trace)\n",
    "\n",
    "print(\"Lfree : \"+str(footprint.calculate_free_ligand_concentration(ref,trace)))"
   ]
  },
  {
   "cell_type": "markdown",
   "metadata": {},
   "source": [
    "Let's check, what give_all_clustered_peaks will return now:"
   ]
  },
  {
   "cell_type": "code",
   "execution_count": 15,
   "metadata": {
    "collapsed": false
   },
   "outputs": [
    {
     "name": "stdout",
     "output_type": "stream",
     "text": [
      "(<footprint.Peak object at 0x10a4ffc88>, <footprint.Peak object at 0x10a4ffb70>)\n",
      "{'peak_height': 20, 'size_bp': 1, 'peak_height_original': 20, 'cluster': 1}{'peak_height': 10, 'size_bp': 1.07, 'fractional_occupancy': 0.5, 'cluster': 1}\n",
      "---\n",
      "(<footprint.Peak object at 0x10a4ffcf8>, <footprint.Peak object at 0x10a4ffbe0>)\n",
      "{'peak_height': 40, 'size_bp': 2, 'peak_height_original': 40, 'cluster': 2}{'peak_height': 20, 'size_bp': 1.98, 'fractional_occupancy': 0.5, 'cluster': 2}\n",
      "---\n",
      "(<footprint.Peak object at 0x10a4ffd30>, <footprint.Peak object at 0x10a4ffc18>)\n",
      "{'peak_height': 60, 'size_bp': 3, 'peak_height_original': 60, 'cluster': 3}{'peak_height': 60, 'size_bp': 3.01, 'fractional_occupancy': 0.0, 'cluster': 3}\n",
      "---\n"
     ]
    }
   ],
   "source": [
    "for i in footprint.give_all_clustered_peaks(ref,trace): \n",
    "    print(i) ## returns a list of Peak objects\n",
    "    print(str(vars(i[0]))+str(vars(i[1]))) ## access the Peak objects\n",
    "    print(\"---\")"
   ]
  },
  {
   "cell_type": "code",
   "execution_count": null,
   "metadata": {
    "collapsed": true
   },
   "outputs": [],
   "source": []
  }
 ],
 "metadata": {
  "celltoolbar": "Raw Cell Format",
  "kernelspec": {
   "display_name": "Python 3",
   "language": "python",
   "name": "python3"
  },
  "language_info": {
   "codemirror_mode": {
    "name": "ipython",
    "version": 3
   },
   "file_extension": ".py",
   "mimetype": "text/x-python",
   "name": "python",
   "nbconvert_exporter": "python",
   "pygments_lexer": "ipython3",
   "version": "3.5.1"
  }
 },
 "nbformat": 4,
 "nbformat_minor": 0
}
