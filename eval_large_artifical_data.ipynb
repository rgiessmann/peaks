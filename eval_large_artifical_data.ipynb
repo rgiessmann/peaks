{
 "cells": [
  {
   "cell_type": "markdown",
   "metadata": {},
   "source": [
    "# Perfect artifical data (sd = 0)\n",
    "\n",
    "is not possible, currently.\n",
    "\n",
    "# Noisy artificial data\n",
    "\n",
    "Check that everything is working on perfectly reproducing artifical data (with slight noise)."
   ]
  },
  {
   "cell_type": "code",
   "execution_count": 10,
   "metadata": {
    "collapsed": false
   },
   "outputs": [
    {
     "name": "stdout",
     "output_type": "stream",
     "text": [
      "[]\n",
      "[0 0]\n",
      "{'peaks': [{'peak_height': 3824.0, 'size_bp': 1.0}, {'peak_height': 300.0, 'size_bp': 2.0}], 'Ltot_conc': 0.0, 'dye_color': 'B', 'file_name': '0', 'Rtot_conc': 0.02}\n",
      "1\n",
      "2\n",
      "3\n",
      "{'peaks': [{'averaged_peak_size_bp_n': 3, 'averaged_peak_height_n': 3, 'averaged_peak_size_bp_nm': 1.0, 'averaged_peak_height_nm': 1.0, 'peak_height': 3827.92790785838, 'cluster': 1, 'averaged_peak_height_sd': 4.6408462789843066, 'averaged_peak_size_bp_sd': 0.019417126008468372, 'size_bp': 1.0241305694248901}, {'averaged_peak_size_bp_n': 3, 'averaged_peak_height_n': 3, 'averaged_peak_size_bp_nm': 1.0, 'averaged_peak_height_nm': 1.0, 'peak_height': 284.2516721058871, 'cluster': 2, 'averaged_peak_height_sd': 19.800485623570815, 'averaged_peak_size_bp_sd': 0.056219636677356931, 'size_bp': 2.078156572641819}], 'Ltot_conc': 0.0, 'dye_color': 'B', 'file_name': 'averaged_negative_control', 'Rtot_conc': 0.0}\n",
      "\n",
      "{'peaks': [{'peak_height': 3824.0, 'cluster': 1, 'size_bp': 1.0}, {'peak_height': 300.0, 'cluster': 2, 'size_bp': 2.0}], 'Ltot_conc': 0.0, 'dye_color': 'B', 'file_name': '0', 'Rtot_conc': 0.02}\n",
      "\n",
      "{'peaks': [{'cluster': 1, 'peak_height': 3834.4454138263413, 'size_bp': 1.0475459152854536}, {'cluster': 2, 'peak_height': 296.42947745858976, 'size_bp': 2.1298694914015472}], 'Ltot_conc': 0.0, 'dye_color': 'B', 'file_name': '0', 'Rtot_conc': 0.02}\n"
     ]
    }
   ],
   "source": [
    "import imp\n",
    "import footprint\n",
    "imp.reload(footprint)\n",
    "from test import generate_large_data_set\n",
    "import numpy as np\n",
    "\n",
    "\n",
    "## set conditions for data set generation\n",
    "rtot = 0.02\n",
    "sd_bp = 0.1\n",
    "sd_height = 50\n",
    "number_of_peaks = 3\n",
    "number_of_footprints = 0 #number_of_peaks - \n",
    "number_of_control_traces = 3\n",
    "number_of_sample_traces = 0\n",
    "\n",
    "peaks_bp = np.arange(1,number_of_peaks,1) \n",
    "footprinted_peaks_bp_and_kd = np.dstack((np.random.choice(number_of_peaks,size=number_of_footprints,replace=False) , np.random.random_sample((number_of_footprints))))[0]\n",
    "print(footprinted_peaks_bp_and_kd)\n",
    "lfree_concs = np.append(np.random.random_integers(0,0,number_of_control_traces -1),np.random.random_integers(1,15,number_of_sample_traces)) #\n",
    "print(lfree_concs)\n",
    "\n",
    "trace_list = generate_large_data_set.generate_data_set(rtot, peaks_bp, footprinted_peaks_bp_and_kd , lfree_concs, sd_bp, sd_height)\n",
    "\n",
    "print(trace_list[0])\n",
    "ref = footprint.generate_averaged_negative_control(trace_list)\n",
    "#traces = trace_list[1:]\n",
    "\n",
    "\n",
    "print(len(trace_list))\n",
    "\n",
    "footprint.cluster_peaks(ref,trace_list)\n",
    "\n",
    "print(ref)\n",
    "print(\"\")\n",
    "print(trace_list[0])\n",
    "print(\"\")\n",
    "print(trace_list[-1])"
   ]
  },
  {
   "cell_type": "code",
   "execution_count": 11,
   "metadata": {
    "collapsed": false
   },
   "outputs": [
    {
     "name": "stdout",
     "output_type": "stream",
     "text": [
      "Using matplotlib backend: MacOSX\n"
     ]
    }
   ],
   "source": [
    "\n",
    "storage = []\n",
    "\n",
    "%matplotlib\n",
    "import matplotlib.pyplot as plt\n",
    "\n",
    "for trace in trace_list:\n",
    "    xdata = []\n",
    "    ydata = []\n",
    "    for factor in np.linspace(start=0.5,stop=3,num=100):\n",
    "        footprint.correct_peaks_with_factor(trace,factor)\n",
    "        #for weight_small, weight_big in [(0,1),(1,0)]:\n",
    "        #    for relative in [True, False]:\n",
    "        #        print(trace.file_name, factor,weight_small,weight_big,relative)\n",
    "        #        index = \" \".join([str(i) for i in [trace.file_name, factor,weight_small,weight_big,relative]])\n",
    "        #        storage.append({index : footprint.calculate_deviance_for_all_peaks(ref,trace,weight_small,weight_big,relative)})\n",
    "        xdata.append(factor)\n",
    "        ydata.append(footprint.calculate_deviance_for_all_peaks(trace_list[0],trace,1,1,False,0,2000))\n",
    "        footprint.correct_peaks_with_factor(trace,1/factor)\n",
    "    plt.plot(xdata,ydata)\n"
   ]
  },
  {
   "cell_type": "code",
   "execution_count": null,
   "metadata": {
    "collapsed": false
   },
   "outputs": [],
   "source": [
    "imp.reload(footprint)\n",
    "for t in trace_list: footprint.add_fractional_occupancies(ref,t)\n",
    "footprint.fit_data_determine_kd(ref,trace_list)"
   ]
  },
  {
   "cell_type": "code",
   "execution_count": null,
   "metadata": {
    "collapsed": true
   },
   "outputs": [],
   "source": []
  },
  {
   "cell_type": "code",
   "execution_count": null,
   "metadata": {
    "collapsed": true
   },
   "outputs": [],
   "source": []
  }
 ],
 "metadata": {
  "kernelspec": {
   "display_name": "Python 3",
   "language": "python",
   "name": "python3"
  },
  "language_info": {
   "codemirror_mode": {
    "name": "ipython",
    "version": 3
   },
   "file_extension": ".py",
   "mimetype": "text/x-python",
   "name": "python",
   "nbconvert_exporter": "python",
   "pygments_lexer": "ipython3",
   "version": "3.5.1"
  }
 },
 "nbformat": 4,
 "nbformat_minor": 0
}
